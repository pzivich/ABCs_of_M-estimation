{
 "cells": [
  {
   "cell_type": "markdown",
   "id": "72602b9a",
   "metadata": {},
   "source": [
    "# ABC's of M-estimation\n",
    "\n",
    "Code for M-estimator of the mean (Section 1)\n",
    "\n",
    "Paul Zivich (2025/06/04)\n",
    "\n",
    "## Loading dependencies"
   ]
  },
  {
   "cell_type": "code",
   "execution_count": 1,
   "id": "41bc8833",
   "metadata": {},
   "outputs": [
    {
     "name": "stdout",
     "output_type": "stream",
     "text": [
      "versions\n",
      "NumPy:         1.25.2\n",
      "Pandas:        1.4.1\n",
      "SciPy:         1.11.2\n",
      "Delicatessen:  3.2 \n",
      "\n"
     ]
    }
   ],
   "source": [
    "import numpy as np\n",
    "import pandas as pd\n",
    "import scipy as sp\n",
    "from scipy.optimize import root\n",
    "from scipy.optimize import approx_fprime\n",
    "import delicatessen as deli\n",
    "from delicatessen import MEstimator\n",
    "\n",
    "print(\"versions\")\n",
    "print('NumPy:        ', np.__version__)\n",
    "print('Pandas:       ', pd.__version__)\n",
    "print('SciPy:        ', sp.__version__)\n",
    "print('Delicatessen: ', deli.__version__, '\\n')"
   ]
  },
  {
   "cell_type": "markdown",
   "id": "d257330e",
   "metadata": {},
   "source": [
    "## Data"
   ]
  },
  {
   "cell_type": "code",
   "execution_count": 2,
   "id": "cb822b5f",
   "metadata": {},
   "outputs": [],
   "source": [
    "y = np.array([7, 1, 5, 3, 24])   # Data (observations)\n",
    "n = len(y)                       # Number of observations"
   ]
  },
  {
   "cell_type": "markdown",
   "id": "658736dc",
   "metadata": {},
   "source": [
    "## Mean by usual / closed-form estimator"
   ]
  },
  {
   "cell_type": "code",
   "execution_count": 3,
   "id": "9919c543",
   "metadata": {},
   "outputs": [
    {
     "name": "stdout",
     "output_type": "stream",
     "text": [
      "Estimated mean\n",
      "Closed-form: 8.0\n"
     ]
    }
   ],
   "source": [
    "mu_closed = np.sum(y) / n         # Manually computing mean by sum and dividing by n\n",
    "# mu_closed = np.mean(y)          # Built-in function in NumPy\n",
    "\n",
    "print(\"Estimated mean\")\n",
    "print(\"Closed-form:\", mu_closed)"
   ]
  },
  {
   "cell_type": "markdown",
   "id": "2572e901",
   "metadata": {},
   "source": [
    "## Defining estimating equation"
   ]
  },
  {
   "cell_type": "code",
   "execution_count": 4,
   "id": "2352d856",
   "metadata": {},
   "outputs": [],
   "source": [
    "def estimating_function(mu):\n",
    "    return y - mu"
   ]
  },
  {
   "cell_type": "code",
   "execution_count": 5,
   "id": "4d9bac04",
   "metadata": {},
   "outputs": [],
   "source": [
    "def estimating_equation(mu):\n",
    "    estf = np.asarray(estimating_function(mu))  # Return estimating function\n",
    "    return np.sum(estf)                         # Sum over all estimating functions"
   ]
  },
  {
   "cell_type": "markdown",
   "id": "0bccc8af",
   "metadata": {},
   "source": [
    "## Root-finding"
   ]
  },
  {
   "cell_type": "code",
   "execution_count": 6,
   "id": "f52d68cd",
   "metadata": {},
   "outputs": [
    {
     "name": "stdout",
     "output_type": "stream",
     "text": [
      "Root-finder: 8.0\n"
     ]
    }
   ],
   "source": [
    "proc = root(estimating_equation,     # Function to find root(s) of\n",
    "            x0=np.array([0, ]),      # ... starting values for root-finding procedure\n",
    "            method='lm')             # ... algorithm to use (Levenberg-Marquardt here)\n",
    "mu_root = proc[\"x\"][0]\n",
    "print(\"Root-finder:\", mu_root)"
   ]
  },
  {
   "cell_type": "markdown",
   "id": "94003070",
   "metadata": {},
   "source": [
    "## Baking the bread (approximate derivative)"
   ]
  },
  {
   "cell_type": "code",
   "execution_count": 7,
   "id": "44dce0c4",
   "metadata": {},
   "outputs": [],
   "source": [
    "deriv = approx_fprime(xk=proc[\"x\"],            # Array of values to compute derivative at (root of estimating equation)\n",
    "                      f=estimating_equation,   # ... function to find derivative of\n",
    "                      epsilon=1e-9)            # ... distance of points for numerical approximation (should be small)\n",
    "bread = -1*deriv / n"
   ]
  },
  {
   "cell_type": "markdown",
   "id": "15c920bd",
   "metadata": {},
   "source": [
    "## Cooking the filling (matrix algebra)"
   ]
  },
  {
   "cell_type": "code",
   "execution_count": 8,
   "id": "4074dafb",
   "metadata": {},
   "outputs": [],
   "source": [
    "outerprod = np.sum(estimating_function(mu_root) * estimating_function(mu_root))\n",
    "filling = outerprod / n"
   ]
  },
  {
   "cell_type": "markdown",
   "id": "d8457ca8",
   "metadata": {},
   "source": [
    "## Assembling the sandwich (matrix algebra)"
   ]
  },
  {
   "cell_type": "code",
   "execution_count": 9,
   "id": "63f64e86",
   "metadata": {},
   "outputs": [
    {
     "name": "stdout",
     "output_type": "stream",
     "text": [
      "95% CI: [ 0.772 15.228]\n"
     ]
    }
   ],
   "source": [
    "sandwich = (bread**-1) * filling * (bread**-1) / n\n",
    "se = np.sqrt(sandwich)\n",
    "\n",
    "print(\"95% CI:\", np.round([mu_root - 1.96*se[0],\n",
    "                           mu_root + 1.96*se[0]],\n",
    "                          3))"
   ]
  },
  {
   "cell_type": "markdown",
   "id": "104b2522",
   "metadata": {},
   "source": [
    "## Using delicatessen instead of by-hand"
   ]
  },
  {
   "cell_type": "code",
   "execution_count": 10,
   "id": "8b525f6b",
   "metadata": {},
   "outputs": [],
   "source": [
    "def psi(theta):\n",
    "    return y - theta"
   ]
  },
  {
   "cell_type": "code",
   "execution_count": 11,
   "id": "bfe22b0c",
   "metadata": {},
   "outputs": [],
   "source": [
    "mestr = MEstimator(psi, init=[0, ])\n",
    "mestr.estimate(solver='lm')"
   ]
  },
  {
   "cell_type": "code",
   "execution_count": 12,
   "id": "8c8b9427",
   "metadata": {},
   "outputs": [
    {
     "name": "stdout",
     "output_type": "stream",
     "text": [
      "Deli:    [8.]\n",
      "95% CI:  [[ 0.772 15.228]]\n"
     ]
    }
   ],
   "source": [
    "print(\"Deli:   \", mestr.theta)\n",
    "print(\"95% CI: \", np.round(mestr.confidence_intervals(), 3))"
   ]
  }
 ],
 "metadata": {
  "kernelspec": {
   "display_name": "Python 3 (ipykernel)",
   "language": "python",
   "name": "python3"
  },
  "language_info": {
   "codemirror_mode": {
    "name": "ipython",
    "version": 3
   },
   "file_extension": ".py",
   "mimetype": "text/x-python",
   "name": "python",
   "nbconvert_exporter": "python",
   "pygments_lexer": "ipython3",
   "version": "3.9.4"
  }
 },
 "nbformat": 4,
 "nbformat_minor": 5
}
